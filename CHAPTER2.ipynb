{
  "nbformat": 4,
  "nbformat_minor": 0,
  "metadata": {
    "colab": {
      "provenance": [],
      "toc_visible": true,
      "authorship_tag": "ABX9TyMs6ICjgV/St12JS1kRhJII",
      "include_colab_link": true
    },
    "kernelspec": {
      "name": "python3",
      "display_name": "Python 3"
    },
    "language_info": {
      "name": "python"
    }
  },
  "cells": [
    {
      "cell_type": "markdown",
      "metadata": {
        "id": "view-in-github",
        "colab_type": "text"
      },
      "source": [
        "<a href=\"https://colab.research.google.com/github/pigi0420/AIandMLForCodersBook/blob/main/CHAPTER2.ipynb\" target=\"_parent\"><img src=\"https://colab.research.google.com/assets/colab-badge.svg\" alt=\"Open In Colab\"/></a>"
      ]
    },
    {
      "cell_type": "markdown",
      "source": [
        "# **2장 컴퓨터 비전 소개**\n",
        "**패션 MNIST데이터셋을 이용해 의류 아이템을 구별하는 모델을 만든다**"
      ],
      "metadata": {
        "id": "HwgMncQmmMdX"
      }
    },
    {
      "cell_type": "markdown",
      "source": [
        "모델 훈련 코드"
      ],
      "metadata": {
        "id": "HkgpniafnFOU"
      }
    },
    {
      "cell_type": "code",
      "execution_count": null,
      "metadata": {
        "id": "2aJT23dJl8_h",
        "colab": {
          "base_uri": "https://localhost:8080/"
        },
        "outputId": "0f605dea-5720-4a4b-a10c-833890edf36c"
      },
      "outputs": [
        {
          "output_type": "stream",
          "name": "stdout",
          "text": [
            "Epoch 1/5\n",
            "1875/1875 [==============================] - 7s 3ms/step - loss: 2.6899 - accuracy: 0.7347\n",
            "Epoch 2/5\n",
            "1875/1875 [==============================] - 5s 3ms/step - loss: 0.5884 - accuracy: 0.7939\n",
            "Epoch 3/5\n",
            "1875/1875 [==============================] - 5s 3ms/step - loss: 0.5407 - accuracy: 0.8088\n",
            "Epoch 4/5\n",
            "1875/1875 [==============================] - 5s 3ms/step - loss: 0.5260 - accuracy: 0.8170\n",
            "Epoch 5/5\n",
            "1875/1875 [==============================] - 5s 3ms/step - loss: 0.5082 - accuracy: 0.8221\n"
          ]
        },
        {
          "output_type": "execute_result",
          "data": {
            "text/plain": [
              "<keras.callbacks.History at 0x7fc8288fa0a0>"
            ]
          },
          "metadata": {},
          "execution_count": 5
        }
      ],
      "source": [
        "import tensorflow as tf\n",
        "data = tf.keras.datasets.fashion_mnist\n",
        "#tf.keras.datasets을 이용하여 데이터셋 로드\n",
        "\n",
        "(training_images, training_labels), (test_images, test_labels) = data.load_data()\n",
        "#lode_data 메서드를 호출하여 train데이터와 test데이터를 분리\n",
        "#패션MNIST는 training_images 6만개 28X28픽셀 배열, training_labels 6만개의 원소 배열\n",
        "\n",
        "trainig_images = training_images / 255.0\n",
        "test_images = test_images / 255.0\n",
        "#흑백 이미지는 0~255 사이의 픽셀값을 가지므로 255로 나누어 0에서 1사이 값으로 정규화 시킨다.\n",
        "\n",
        "'''신경망 설계'''\n",
        "model = tf.keras.models.Sequential([\n",
        "    tf.keras.layers.Flatten(input_shape=(28, 28)),\n",
        "    tf.keras.layers.Dense(128, activation=tf.nn.relu),\n",
        "    tf.keras.layers.Dense(128, activation=tf.nn.softmax)\n",
        "])\n",
        "\n",
        "'''모델 컴파일'''\n",
        "model.compile(optimizer='adam',\n",
        "              loss='sparse_categorical_crossentropy',\n",
        "              metrics=['accuracy'])\n",
        "#손실함수 희소 범주형 크로스 엔트로피, 옵티마이저 아담\n",
        "#카테고리를 선탹하는 알고리즘 범주형 손실 함수를 사용하는것이 적합\n",
        "#6만개의 훈련 알고리즘을 다뤄 훈련 속도를 높아이기 위해 adam이 적합\n",
        "\n",
        "model.fit(training_images, training_labels, epochs=5)"
      ]
    },
    {
      "cell_type": "code",
      "source": [],
      "metadata": {
        "id": "D0Rgnn2_3R_A"
      },
      "execution_count": null,
      "outputs": []
    }
  ]
}