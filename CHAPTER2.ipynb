{
  "nbformat": 4,
  "nbformat_minor": 0,
  "metadata": {
    "colab": {
      "provenance": [],
      "toc_visible": true,
      "authorship_tag": "ABX9TyNse9CrtplW/LlA+f2w+eel",
      "include_colab_link": true
    },
    "kernelspec": {
      "name": "python3",
      "display_name": "Python 3"
    },
    "language_info": {
      "name": "python"
    }
  },
  "cells": [
    {
      "cell_type": "markdown",
      "metadata": {
        "id": "view-in-github",
        "colab_type": "text"
      },
      "source": [
        "<a href=\"https://colab.research.google.com/github/pigi0420/AIandMLForCodersBook/blob/main/CHAPTER2.ipynb\" target=\"_parent\"><img src=\"https://colab.research.google.com/assets/colab-badge.svg\" alt=\"Open In Colab\"/></a>"
      ]
    },
    {
      "cell_type": "markdown",
      "source": [
        "# **2장 컴퓨터 비전 소개**\n",
        "**패션 MNIST데이터셋을 이용해 의류 아이템을 구별하는 모델을 만든다**"
      ],
      "metadata": {
        "id": "HwgMncQmmMdX"
      }
    },
    {
      "cell_type": "markdown",
      "source": [
        "모델 훈련 코드"
      ],
      "metadata": {
        "id": "HkgpniafnFOU"
      }
    },
    {
      "cell_type": "code",
      "execution_count": null,
      "metadata": {
        "id": "2aJT23dJl8_h"
      },
      "outputs": [],
      "source": [
        "import tensorflow as tf\n",
        "data = tf.keras.datasets.fashion_mnist\n",
        "\n",
        "(training_images, training_labels), (test_images, test_labels) = data.load_data()\n",
        "\n",
        "trainig_images = training_images / 255.0\n",
        "test_images = testimages / 255.0\n",
        "\n",
        "model = tf.keras.layers.Flatten(input_shape=(28, 28))"
      ]
    }
  ]
}